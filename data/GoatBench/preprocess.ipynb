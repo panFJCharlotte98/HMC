{
 "cells": [
  {
   "cell_type": "code",
   "execution_count": null,
   "id": "0d3d7b4c",
   "metadata": {},
   "outputs": [],
   "source": [
    "import json\n",
    "import os\n",
    "import pandas as pd    \n",
    "import pprint\n",
    "import shutil\n",
    "import statistics\n",
    "from PIL import Image\n",
    "import sys\n",
    "sys.path.append(\"../../\")\n",
    "from utils.tool import resize_image"
   ]
  },
  {
   "cell_type": "code",
   "execution_count": null,
   "id": "c5eec46c",
   "metadata": {},
   "outputs": [],
   "source": [
    "def preprocess_goatbench(\n",
    "    root=\"./\",\n",
    "    save_data_jsons=False, \n",
    "    include_gt_captions=False,\n",
    "    use_processed_img=False\n",
    "):\n",
    "    \n",
    "    \n",
    "\n",
    "\n",
    "    return\n",
    "\n",
    "preprocess_goatbench()"
   ]
  }
 ],
 "metadata": {
  "kernelspec": {
   "display_name": "phd",
   "language": "python",
   "name": "python3"
  },
  "language_info": {
   "name": "python",
   "version": "3.11.10"
  }
 },
 "nbformat": 4,
 "nbformat_minor": 5
}
